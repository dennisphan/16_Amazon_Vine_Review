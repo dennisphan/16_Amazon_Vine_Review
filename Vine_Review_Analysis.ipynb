{
  "nbformat": 4,
  "nbformat_minor": 0,
  "metadata": {
    "colab": {
      "name": "Untitled0.ipynb",
      "provenance": []
    },
    "kernelspec": {
      "name": "python3",
      "display_name": "Python 3"
    },
    "language_info": {
      "name": "python"
    }
  },
  "cells": [
    {
      "cell_type": "code",
      "metadata": {
        "colab": {
          "base_uri": "https://localhost:8080/"
        },
        "id": "p6O2Nvts9NF4",
        "outputId": "d3528e9e-93ef-4e85-e37f-c52cf3612dbe"
      },
      "source": [
        "import os\n",
        "# Find the latest version of spark 3.0 from http://www.apache.org/dist/spark/ and enter as the spark version\n",
        "# For example:\n",
        "# spark_version = 'spark-3.0.3'\n",
        "spark_version = 'spark-3.0.3'\n",
        "os.environ['SPARK_VERSION']=spark_version\n",
        "\n",
        "# Install Spark and Java\n",
        "!apt-get update\n",
        "!apt-get install openjdk-11-jdk-headless -qq > /dev/null\n",
        "!wget -q http://www.apache.org/dist/spark/$SPARK_VERSION/$SPARK_VERSION-bin-hadoop2.7.tgz\n",
        "!tar xf $SPARK_VERSION-bin-hadoop2.7.tgz\n",
        "!pip install -q findspark\n",
        "\n",
        "# Set Environment Variables\n",
        "import os\n",
        "os.environ[\"JAVA_HOME\"] = \"/usr/lib/jvm/java-11-openjdk-amd64\"\n",
        "os.environ[\"SPARK_HOME\"] = f\"/content/{spark_version}-bin-hadoop2.7\"\n",
        "\n",
        "# Start a SparkSession\n",
        "import findspark\n",
        "findspark.init()"
      ],
      "execution_count": 21,
      "outputs": [
        {
          "output_type": "stream",
          "name": "stdout",
          "text": [
            "\r0% [Working]\r            \rHit:1 https://cloud.r-project.org/bin/linux/ubuntu bionic-cran40/ InRelease\n",
            "Ign:2 https://developer.download.nvidia.com/compute/cuda/repos/ubuntu1804/x86_64  InRelease\n",
            "Ign:3 https://developer.download.nvidia.com/compute/machine-learning/repos/ubuntu1804/x86_64  InRelease\n",
            "Hit:4 https://developer.download.nvidia.com/compute/cuda/repos/ubuntu1804/x86_64  Release\n",
            "Hit:5 https://developer.download.nvidia.com/compute/machine-learning/repos/ubuntu1804/x86_64  Release\n",
            "Hit:6 http://archive.ubuntu.com/ubuntu bionic InRelease\n",
            "Hit:7 http://security.ubuntu.com/ubuntu bionic-security InRelease\n",
            "Hit:8 http://archive.ubuntu.com/ubuntu bionic-updates InRelease\n",
            "Hit:9 http://ppa.launchpad.net/c2d4u.team/c2d4u4.0+/ubuntu bionic InRelease\n",
            "Hit:11 http://archive.ubuntu.com/ubuntu bionic-backports InRelease\n",
            "Hit:13 http://ppa.launchpad.net/cran/libgit2/ubuntu bionic InRelease\n",
            "Hit:14 http://ppa.launchpad.net/deadsnakes/ppa/ubuntu bionic InRelease\n",
            "Hit:15 http://ppa.launchpad.net/graphics-drivers/ppa/ubuntu bionic InRelease\n",
            "Reading package lists... Done\n"
          ]
        }
      ]
    },
    {
      "cell_type": "code",
      "metadata": {
        "colab": {
          "base_uri": "https://localhost:8080/"
        },
        "id": "hEMtwmIS9vBo",
        "outputId": "c95a68b9-2dea-4851-8789-992ad2fd28d7"
      },
      "source": [
        "# Download the Postgres driver that will allow Spark to interact with Postgres.\n",
        "!wget https://jdbc.postgresql.org/download/postgresql-42.2.16.jar"
      ],
      "execution_count": 22,
      "outputs": [
        {
          "output_type": "stream",
          "name": "stdout",
          "text": [
            "--2021-11-17 17:54:09--  https://jdbc.postgresql.org/download/postgresql-42.2.16.jar\n",
            "Resolving jdbc.postgresql.org (jdbc.postgresql.org)... 72.32.157.228, 2001:4800:3e1:1::228\n",
            "Connecting to jdbc.postgresql.org (jdbc.postgresql.org)|72.32.157.228|:443... connected.\n",
            "HTTP request sent, awaiting response... 200 OK\n",
            "Length: 1002883 (979K) [application/java-archive]\n",
            "Saving to: ‘postgresql-42.2.16.jar.1’\n",
            "\n",
            "postgresql-42.2.16. 100%[===================>] 979.38K  6.02MB/s    in 0.2s    \n",
            "\n",
            "2021-11-17 17:54:09 (6.02 MB/s) - ‘postgresql-42.2.16.jar.1’ saved [1002883/1002883]\n",
            "\n"
          ]
        }
      ]
    },
    {
      "cell_type": "code",
      "metadata": {
        "id": "2VkDgVe09yFX"
      },
      "source": [
        "from pyspark.sql import SparkSession\n",
        "spark = SparkSession.builder.appName(\"M16-Amazon-Challenge\").config(\"spark.driver.extraClassPath\",\"/content/postgresql-42.2.16.jar\").getOrCreate()"
      ],
      "execution_count": 23,
      "outputs": []
    },
    {
      "cell_type": "code",
      "metadata": {
        "colab": {
          "base_uri": "https://localhost:8080/"
        },
        "id": "a_lpA-xC90G8",
        "outputId": "1e64102e-58ff-49b0-fb28-33a948e256f2"
      },
      "source": [
        "from pyspark import SparkFiles\n",
        "url = \"https://s3.amazonaws.com/amazon-reviews-pds/tsv/amazon_reviews_us_Books_v1_02.tsv.gz\"\n",
        "spark.sparkContext.addFile(url)\n",
        "df = spark.read.option(\"encoding\", \"UTF-8\").csv(SparkFiles.get(\"\"), sep=\"\\t\", header=True, inferSchema=True)\n",
        "df.show()"
      ],
      "execution_count": 24,
      "outputs": [
        {
          "output_type": "stream",
          "name": "stdout",
          "text": [
            "+-----------+-----------+--------------+----------+--------------+--------------------+----------------+-----------+-------------+-----------+----+-----------------+--------------------+--------------------+-----------+\n",
            "|marketplace|customer_id|     review_id|product_id|product_parent|       product_title|product_category|star_rating|helpful_votes|total_votes|vine|verified_purchase|     review_headline|         review_body|review_date|\n",
            "+-----------+-----------+--------------+----------+--------------+--------------------+----------------+-----------+-------------+-----------+----+-----------------+--------------------+--------------------+-----------+\n",
            "|         US|   12076615| RQ58W7SMO911M|0385730586|     122662979|Sisterhood of the...|           Books|          4|            2|          3|   N|                N|this book was a g...|this boook was a ...| 2005-10-14|\n",
            "|         US|   12703090|  RF6IUKMGL8SF|0811828964|      56191234|The Bad Girl's Gu...|           Books|          3|            5|          5|   N|                N|           Fun Fluff|If you are lookin...| 2005-10-14|\n",
            "|         US|   12257412|R1DOSHH6AI622S|1844161560|     253182049|Eisenhorn (A Warh...|           Books|          4|            1|         22|   N|                N| this isn't a review|never read it-a y...| 2005-10-14|\n",
            "|         US|   50732546| RATOTLA3OF70O|0373836635|     348672532|Colby Conspiracy ...|           Books|          5|            2|          2|   N|                N|fine author on he...|Though she is hon...| 2005-10-14|\n",
            "|         US|   51964897|R1TNWRKIVHVYOV|0262181533|     598678717|The Psychology of...|           Books|          4|            0|          2|   N|                N|Execellent cursor...|Review based on a...| 2005-10-14|\n",
            "|         US|   31048862|R2F53LI9KK9MOY|0316769487|     862964341|The Catcher in th...|           Books|          4|            2|          2|   N|                N|   Interesting, fun.|My only complaint...| 2005-10-14|\n",
            "|         US|   53000124|R1KJ6MB7MRSQFF|0805076069|     145341889|Bait and Switch: ...|           Books|          4|            9|         11|   N|                N|I viewed this the...|This book is chil...| 2005-10-14|\n",
            "|         US|   29732693|R2XIM9LT335WHE|1581603681|     640542054|Opening Combinati...|           Books|          4|            3|         10|   N|                N|No Frills - Just ...|When looking for ...| 2005-10-14|\n",
            "|         US|   48541186|R1VE0FQQ0QTQJN|0300108834|     915891133|A Little History ...|           Books|          5|           16|         20|   N|                Y|Simple, entertain...|Never been much f...| 2005-10-14|\n",
            "|         US|   15280864|R1VKEE2NWSWDRU|0446531081|     880645124|Hour Game (King &...|           Books|          4|            0|          0|   N|                N|        A good read!|If you enjoy a we...| 2005-10-14|\n",
            "|         US|   24209213|R2UP6XSVYJBJ2H|0976822105|     731931430|     Faith is a Verb|           Books|          5|            0|          0|   N|                N|Made me Question ...|I thoroughly enjo...| 2005-10-14|\n",
            "|         US|   52253037|R21SYDQ70ILUC0|1580085695|     586052746|Furry Logic: A Gu...|           Books|          5|            1|          1|   N|                Y|    The Perfect Gift|If you are stumpe...| 2005-10-14|\n",
            "|         US|   27925116| R7M06Z88PD7SX|0029148510|      72387289|Acts of War: Beha...|           Books|          4|           14|         14|   N|                N|Solid Book About ...|Whether intention...| 2005-10-14|\n",
            "|         US|   15005044| RRS38KZ4WB5O2|1592285570|     702385650|Temple to the Win...|           Books|          5|            1|          1|   N|                N|A riveting accoun...|Temple to the win...| 2005-10-14|\n",
            "|         US|   52534781|R2YDYRSLGNHPHR|0811848833|     102333549|The Star Wars Pos...|           Books|          4|           16|         19|   N|                Y|Comprehensive vis...|At last... a comp...| 2005-10-14|\n",
            "|         US|   26217071|R1BMPM18O6VZOR|0782144276|     971452783|Photoshop for Nat...|           Books|          4|           13|         14|   N|                N|          Great Book|I find \\\\\"Photosh...| 2005-10-14|\n",
            "|         US|   37684582|R1AABFZH0J0C0C|0375757996|     760991156|The Basic Works o...|           Books|          3|           17|         35|   N|                N|Problems with thi...|I love Aristotle ...| 2005-10-14|\n",
            "|         US|   45232107|R3SJYLG07EHNE9|013146308X|     332774292|The Pterosaurs: F...|           Books|          2|           16|         34|   N|                N|Warmed over lefto...|To his discredit,...| 2005-10-14|\n",
            "|         US|   15437121|R2TIO43ND87XVO|0375701907|     635714194|Straight Man: A N...|           Books|          5|            1|          1|   N|                N|       Funniest Book|Hands down, the f...| 2005-10-14|\n",
            "|         US|   52157117|R18TY4WD19OUAO|141378240X|     656010659|   Lipstick's Legacy|           Books|          5|            1|          1|   N|                N|          Great Work|I read this book ...| 2005-10-14|\n",
            "+-----------+-----------+--------------+----------+--------------+--------------------+----------------+-----------+-------------+-----------+----+-----------------+--------------------+--------------------+-----------+\n",
            "only showing top 20 rows\n",
            "\n"
          ]
        }
      ]
    },
    {
      "cell_type": "code",
      "metadata": {
        "colab": {
          "base_uri": "https://localhost:8080/"
        },
        "id": "uv_gu0gJ914I",
        "outputId": "66008ac7-51eb-410e-8827-dcd81f67ec84"
      },
      "source": [
        "# Create the vine_table. DataFrame\n",
        "vine_df = df.select([\"total_votes\", \"review_id\", \"star_rating\", \"helpful_votes\", \"vine\", \"verified_purchase\"])\n",
        "vine_df.show(5)"
      ],
      "execution_count": 25,
      "outputs": [
        {
          "output_type": "stream",
          "name": "stdout",
          "text": [
            "+-----------+--------------+-----------+-------------+----+-----------------+\n",
            "|total_votes|     review_id|star_rating|helpful_votes|vine|verified_purchase|\n",
            "+-----------+--------------+-----------+-------------+----+-----------------+\n",
            "|          3| RQ58W7SMO911M|          4|            2|   N|                N|\n",
            "|          5|  RF6IUKMGL8SF|          3|            5|   N|                N|\n",
            "|         22|R1DOSHH6AI622S|          4|            1|   N|                N|\n",
            "|          2| RATOTLA3OF70O|          5|            2|   N|                N|\n",
            "|          2|R1TNWRKIVHVYOV|          4|            0|   N|                N|\n",
            "+-----------+--------------+-----------+-------------+----+-----------------+\n",
            "only showing top 5 rows\n",
            "\n"
          ]
        }
      ]
    },
    {
      "cell_type": "code",
      "metadata": {
        "colab": {
          "base_uri": "https://localhost:8080/"
        },
        "id": "JoL1G2hUB9xs",
        "outputId": "c3685712-a400-4272-969b-e0b397a1a719"
      },
      "source": [
        "vine_df[vine_df['vine'] == 'Y'].show(5)"
      ],
      "execution_count": 28,
      "outputs": [
        {
          "output_type": "stream",
          "name": "stdout",
          "text": [
            "+-----------+--------------+-----------+-------------+----+-----------------+\n",
            "|total_votes|     review_id|star_rating|helpful_votes|vine|verified_purchase|\n",
            "+-----------+--------------+-----------+-------------+----+-----------------+\n",
            "|          3|R2NKNL4WXWIWBG|          4|            3|   Y|                Y|\n",
            "|          6| RAIG9ZQDMBF5P|          5|            3|   Y|                N|\n",
            "+-----------+--------------+-----------+-------------+----+-----------------+\n",
            "\n"
          ]
        }
      ]
    },
    {
      "cell_type": "code",
      "metadata": {
        "colab": {
          "base_uri": "https://localhost:8080/"
        },
        "id": "2yQWUzFJ-EQP",
        "outputId": "877711cc-8581-4909-ca0e-215630b82f77"
      },
      "source": [
        "#Create df of total vote count is greater than or equal to 20\n",
        "votes_df = vine_df.filter(vine_df.total_votes >= 20)\n",
        "votes_df.show(5)"
      ],
      "execution_count": 6,
      "outputs": [
        {
          "output_type": "stream",
          "name": "stdout",
          "text": [
            "+-----------+--------------+-----------+-------------+----+-----------------+\n",
            "|total_votes|     review_id|star_rating|helpful_votes|vine|verified_purchase|\n",
            "+-----------+--------------+-----------+-------------+----+-----------------+\n",
            "|         22|R1DOSHH6AI622S|          4|            1|   N|                N|\n",
            "|         20|R1VE0FQQ0QTQJN|          5|           16|   N|                Y|\n",
            "|         35|R1AABFZH0J0C0C|          3|           17|   N|                N|\n",
            "|         34|R3SJYLG07EHNE9|          2|           16|   N|                N|\n",
            "|         31|R3MD5TZJGIPTDU|          5|           21|   N|                N|\n",
            "+-----------+--------------+-----------+-------------+----+-----------------+\n",
            "only showing top 5 rows\n",
            "\n"
          ]
        }
      ]
    },
    {
      "cell_type": "code",
      "metadata": {
        "colab": {
          "base_uri": "https://localhost:8080/"
        },
        "id": "Hp5bn8x4-G5H",
        "outputId": "a04e072b-fdbd-43ec-df00-81454b5ed394"
      },
      "source": [
        "#create new df based on last df filtered on helpful votes / total votes greater than or equal to 50%\n",
        "votes_helpful_df = votes_df.filter((votes_df.helpful_votes / votes_df.total_votes) >= 0.5)\n",
        "votes_helpful_df.show(20)"
      ],
      "execution_count": 9,
      "outputs": [
        {
          "output_type": "stream",
          "name": "stdout",
          "text": [
            "+-----------+--------------+-----------+-------------+----+-----------------+\n",
            "|total_votes|     review_id|star_rating|helpful_votes|vine|verified_purchase|\n",
            "+-----------+--------------+-----------+-------------+----+-----------------+\n",
            "|         20|R1VE0FQQ0QTQJN|          5|           16|   N|                Y|\n",
            "|         31|R3MD5TZJGIPTDU|          5|           21|   N|                N|\n",
            "|         28| RX6OWUF8EFZ72|          5|           27|   N|                N|\n",
            "|         27|R1OPUF771LL5O5|          4|           27|   N|                N|\n",
            "|        307|R3AW5JRZYH66M5|          1|          268|   N|                N|\n",
            "|         27|R2DXLNKF0EL4CI|          4|           24|   N|                Y|\n",
            "|         24|R12EHXBC0GP2C2|          5|           23|   N|                N|\n",
            "|        184|R2JSWNTAO83X3V|          5|          145|   N|                N|\n",
            "|         47|R3THZWOBS1086J|          5|           46|   N|                N|\n",
            "|         30|R160DHJPJ4B20R|          4|           28|   N|                N|\n",
            "|         24|R27UDFNE6MY1LO|          2|           15|   N|                N|\n",
            "|         29|R34X92SSRBI0N4|          5|           26|   N|                N|\n",
            "|         21| RGTKXJ8P5O7LR|          4|           16|   N|                N|\n",
            "|         68|R1TK5Q90GGJSTN|          4|           59|   N|                N|\n",
            "|         24|R3E8UZOCG84HNO|          5|           18|   N|                N|\n",
            "|        103|R33O2810BC4UR0|          5|          101|   N|                Y|\n",
            "|         24|R1M60NYB4UPRJ8|          5|           19|   N|                N|\n",
            "|       1228|R38RXR8USISV94|          4|         1150|   N|                N|\n",
            "|         60|R2E2KP6K6OUBEX|          5|           59|   N|                N|\n",
            "|         43|R3F583X11I1RP6|          1|           40|   N|                N|\n",
            "+-----------+--------------+-----------+-------------+----+-----------------+\n",
            "only showing top 20 rows\n",
            "\n"
          ]
        }
      ]
    },
    {
      "cell_type": "code",
      "metadata": {
        "colab": {
          "base_uri": "https://localhost:8080/"
        },
        "id": "1TZUshGn-I43",
        "outputId": "e41fc037-e502-454f-8c85-e30360926ced"
      },
      "source": [
        "#create another df where reviews came from vine\n",
        "vine_yes_df = vine_df.filter(vine_df.vine == 'Y')\n",
        "vine_yes_df.show(5)"
      ],
      "execution_count": 29,
      "outputs": [
        {
          "output_type": "stream",
          "name": "stdout",
          "text": [
            "+-----------+--------------+-----------+-------------+----+-----------------+\n",
            "|total_votes|     review_id|star_rating|helpful_votes|vine|verified_purchase|\n",
            "+-----------+--------------+-----------+-------------+----+-----------------+\n",
            "|          3|R2NKNL4WXWIWBG|          4|            3|   Y|                Y|\n",
            "|          6| RAIG9ZQDMBF5P|          5|            3|   Y|                N|\n",
            "+-----------+--------------+-----------+-------------+----+-----------------+\n",
            "\n"
          ]
        }
      ]
    },
    {
      "cell_type": "code",
      "metadata": {
        "colab": {
          "base_uri": "https://localhost:8080/"
        },
        "id": "fZzT9Td9-MZj",
        "outputId": "d30d9a99-d2db-4137-f320-3e8f6cd2f2e2"
      },
      "source": [
        "#create another df where reviews came from vine\n",
        "vine_no_df = votes_helpful_df.filter(votes_helpful_df.vine == 'N')\n",
        "vine_no_df.show(5)"
      ],
      "execution_count": 13,
      "outputs": [
        {
          "output_type": "stream",
          "name": "stdout",
          "text": [
            "+-----------+--------------+-----------+-------------+----+-----------------+\n",
            "|total_votes|     review_id|star_rating|helpful_votes|vine|verified_purchase|\n",
            "+-----------+--------------+-----------+-------------+----+-----------------+\n",
            "|         20|R1VE0FQQ0QTQJN|          5|           16|   N|                Y|\n",
            "|         31|R3MD5TZJGIPTDU|          5|           21|   N|                N|\n",
            "|         28| RX6OWUF8EFZ72|          5|           27|   N|                N|\n",
            "|         27|R1OPUF771LL5O5|          4|           27|   N|                N|\n",
            "|        307|R3AW5JRZYH66M5|          1|          268|   N|                N|\n",
            "+-----------+--------------+-----------+-------------+----+-----------------+\n",
            "only showing top 5 rows\n",
            "\n"
          ]
        }
      ]
    },
    {
      "cell_type": "code",
      "metadata": {
        "colab": {
          "base_uri": "https://localhost:8080/"
        },
        "id": "Ezj2nLKK-PDU",
        "outputId": "d1cdabf3-a16d-4777-9639-45c4786057fb"
      },
      "source": [
        "# calculate total paid reviews\n",
        "total_paid_reviews = vine_yes_df.count()\n",
        "total_paid_reviews"
      ],
      "execution_count": 30,
      "outputs": [
        {
          "output_type": "execute_result",
          "data": {
            "text/plain": [
              "2"
            ]
          },
          "metadata": {},
          "execution_count": 30
        }
      ]
    },
    {
      "cell_type": "code",
      "metadata": {
        "colab": {
          "base_uri": "https://localhost:8080/"
        },
        "id": "cEVu0ACGAxla",
        "outputId": "1c0274ed-05a3-446e-a430-d79f8d0aaa53"
      },
      "source": [
        "# calculate total paid five star review\n",
        "paid_five_star_reviews = vine_yes_df.filter(vine_yes_df.star_rating == 5).count()\n",
        "paid_five_star_reviews"
      ],
      "execution_count": 31,
      "outputs": [
        {
          "output_type": "execute_result",
          "data": {
            "text/plain": [
              "1"
            ]
          },
          "metadata": {},
          "execution_count": 31
        }
      ]
    },
    {
      "cell_type": "code",
      "metadata": {
        "colab": {
          "base_uri": "https://localhost:8080/"
        },
        "id": "XgHwTqBZBTNE",
        "outputId": "7ee20ff7-aea5-4c78-b4d2-6d888b49f81a"
      },
      "source": [
        "# calculate percentage of paid five star reviews \n",
        "paid_five_star_percentage = (paid_five_star_reviews / total_paid_reviews) * 100\n",
        "paid_five_star_percentage"
      ],
      "execution_count": 32,
      "outputs": [
        {
          "output_type": "execute_result",
          "data": {
            "text/plain": [
              "50.0"
            ]
          },
          "metadata": {},
          "execution_count": 32
        }
      ]
    },
    {
      "cell_type": "code",
      "metadata": {
        "colab": {
          "base_uri": "https://localhost:8080/"
        },
        "id": "Ta_7_zUiBc_p",
        "outputId": "e117f555-191a-43db-f0df-be3ba3a8e4bf"
      },
      "source": [
        "# calculate total unpaid reviews\n",
        "total_unpaid_reviews = vine_no_df.count()\n",
        "total_unpaid_reviews"
      ],
      "execution_count": 33,
      "outputs": [
        {
          "output_type": "execute_result",
          "data": {
            "text/plain": [
              "403807"
            ]
          },
          "metadata": {},
          "execution_count": 33
        }
      ]
    },
    {
      "cell_type": "code",
      "metadata": {
        "colab": {
          "base_uri": "https://localhost:8080/"
        },
        "id": "4-W-rWGzBe0V",
        "outputId": "dae3ec0a-fd41-4ee9-f642-e163ddbdea44"
      },
      "source": [
        "# calculate total unpaid \n",
        "unpaid_five_star_reviews = vine_no_df.filter(vine_no_df.star_rating == 5).count()\n",
        "unpaid_five_star_reviews"
      ],
      "execution_count": 34,
      "outputs": [
        {
          "output_type": "execute_result",
          "data": {
            "text/plain": [
              "242889"
            ]
          },
          "metadata": {},
          "execution_count": 34
        }
      ]
    },
    {
      "cell_type": "code",
      "metadata": {
        "colab": {
          "base_uri": "https://localhost:8080/"
        },
        "id": "_to0SC07BfyC",
        "outputId": "7f5f4075-b542-4aad-e517-a60017e681ec"
      },
      "source": [
        "# calculate percentage of unpaid five star reviews\n",
        "unpaid_five_star_percent = (unpaid_five_star_reviews / total_unpaid_reviews) * 100\n",
        "unpaid_five_star_percent"
      ],
      "execution_count": 35,
      "outputs": [
        {
          "output_type": "execute_result",
          "data": {
            "text/plain": [
              "60.14977452099642"
            ]
          },
          "metadata": {},
          "execution_count": 35
        }
      ]
    },
    {
      "cell_type": "code",
      "metadata": {
        "id": "AEzS0_rhBhRP"
      },
      "source": [
        ""
      ],
      "execution_count": null,
      "outputs": []
    }
  ]
}